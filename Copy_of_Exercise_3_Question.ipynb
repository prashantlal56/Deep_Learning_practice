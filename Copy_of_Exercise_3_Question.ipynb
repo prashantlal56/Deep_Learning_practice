{
  "nbformat": 4,
  "nbformat_minor": 0,
  "metadata": {
    "colab": {
      "name": "Copy of Exercise 3 - Question.ipynb",
      "provenance": [],
      "collapsed_sections": [],
      "toc_visible": true,
      "include_colab_link": true
    },
    "kernelspec": {
      "display_name": "Python 3",
      "name": "python3"
    }
  },
  "cells": [
    {
      "cell_type": "markdown",
      "metadata": {
        "id": "view-in-github",
        "colab_type": "text"
      },
      "source": [
        "<a href=\"https://colab.research.google.com/github/prashantlal56/Deep_Learning_practice/blob/master/Copy_of_Exercise_3_Question.ipynb\" target=\"_parent\"><img src=\"https://colab.research.google.com/assets/colab-badge.svg\" alt=\"Open In Colab\"/></a>"
      ]
    },
    {
      "cell_type": "code",
      "metadata": {
        "id": "zX4Kg8DUTKWO",
        "colab_type": "code",
        "colab": {}
      },
      "source": [
        "#@title Licensed under the Apache License, Version 2.0 (the \"License\");\n",
        "# you may not use this file except in compliance with the License.\n",
        "# You may obtain a copy of the License at\n",
        "#\n",
        "# https://www.apache.org/licenses/LICENSE-2.0\n",
        "#\n",
        "# Unless required by applicable law or agreed to in writing, software\n",
        "# distributed under the License is distributed on an \"AS IS\" BASIS,\n",
        "# WITHOUT WARRANTIES OR CONDITIONS OF ANY KIND, either express or implied.\n",
        "# See the License for the specific language governing permissions and\n",
        "# limitations under the License."
      ],
      "execution_count": null,
      "outputs": []
    },
    {
      "cell_type": "markdown",
      "metadata": {
        "colab_type": "text",
        "id": "iQjHqsmTAVLU"
      },
      "source": [
        "## Exercise 3\n",
        "In the videos you looked at how you would improve Fashion MNIST using Convolutions. For your exercise see if you can improve MNIST to 99.8% accuracy or more using only a single convolutional layer and a single MaxPooling 2D. You should stop training once the accuracy goes above this amount. It should happen in less than 20 epochs, so it's ok to hard code the number of epochs for training, but your training must end once it hits the above metric. If it doesn't, then you'll need to redesign your layers.\n",
        "\n",
        "I've started the code for you -- you need to finish it!\n",
        "\n",
        "When 99.8% accuracy has been hit, you should print out the string \"Reached 99.8% accuracy so cancelling training!\"\n"
      ]
    },
    {
      "cell_type": "code",
      "metadata": {
        "colab_type": "code",
        "id": "sfQRyaJWAIdg",
        "colab": {
          "base_uri": "https://localhost:8080/",
          "height": 408
        },
        "outputId": "ea88c178-29e1-4cd6-c1c3-3c3183538a58"
      },
      "source": [
        "import tensorflow as tf\n",
        "\n",
        "# YOUR CODE STARTS HERE\n",
        "class mycallback(tf.keras.callbacks.Callback):\n",
        "  def on_epoch_end(self, epoch, logs={}):\n",
        "    if(logs.get('accuracy')>0.998):\n",
        "      print('\\nReached 99.8% accuracy so cancelling training!')\n",
        "      self.model.stop_training=True\n",
        "# YOUR CODE ENDS HERE\n",
        "\n",
        "mnist = tf.keras.datasets.mnist\n",
        "(training_images, training_labels), (test_images, test_labels) = mnist.load_data()\n",
        "\n",
        "# YOUR CODE STARTS HERE\n",
        "training_images=training_images.reshape(60000,28,28,1)\n",
        "training_images=training_images/255.0\n",
        "test_images=test_images.reshape(10000,28,28,1)\n",
        "test_images=test_images/255.0\n",
        "callbacks=mycallback()\n",
        "# YOUR CODE ENDS HERE\n",
        "\n",
        "model = tf.keras.models.Sequential([\n",
        "    # YOUR CODE STARTS HERE\n",
        "tf.keras.layers.Conv2D(64, (3,3), activation='relu', input_shape=(28,28,1)),\n",
        "tf.keras.layers.MaxPool2D(pool_size=(2,2)),\n",
        "tf.keras.layers.Flatten(),\n",
        "tf.keras.layers.Dense(32, activation='relu'),\n",
        "tf.keras.layers.Dense(10, activation='softmax')\n",
        "    # YOUR CODE ENDS HERE\n",
        "])\n",
        "\n",
        "# YOUR CODE STARTS HERE\n",
        "model.compile(optimizer='adam', loss='sparse_categorical_crossentropy', metrics=['accuracy'])\n",
        "model.fit(training_images, training_labels, epochs=20, callbacks=[callbacks])\n",
        "# YOUR CODE ENDS HERE\n"
      ],
      "execution_count": 11,
      "outputs": [
        {
          "output_type": "stream",
          "text": [
            "Epoch 1/20\n",
            "1875/1875 [==============================] - 36s 19ms/step - loss: 0.1753 - accuracy: 0.9479\n",
            "Epoch 2/20\n",
            "1875/1875 [==============================] - 38s 20ms/step - loss: 0.0642 - accuracy: 0.9805\n",
            "Epoch 3/20\n",
            "1875/1875 [==============================] - 38s 20ms/step - loss: 0.0452 - accuracy: 0.9862\n",
            "Epoch 4/20\n",
            "1875/1875 [==============================] - 38s 20ms/step - loss: 0.0333 - accuracy: 0.9899\n",
            "Epoch 5/20\n",
            "1875/1875 [==============================] - 39s 21ms/step - loss: 0.0263 - accuracy: 0.9915\n",
            "Epoch 6/20\n",
            "1875/1875 [==============================] - 37s 20ms/step - loss: 0.0185 - accuracy: 0.9942\n",
            "Epoch 7/20\n",
            "1875/1875 [==============================] - 37s 20ms/step - loss: 0.0150 - accuracy: 0.9949\n",
            "Epoch 8/20\n",
            "1875/1875 [==============================] - 37s 20ms/step - loss: 0.0103 - accuracy: 0.9968\n",
            "Epoch 9/20\n",
            "1875/1875 [==============================] - 37s 20ms/step - loss: 0.0098 - accuracy: 0.9967\n",
            "Epoch 10/20\n",
            "1873/1875 [============================>.] - ETA: 0s - loss: 0.0070 - accuracy: 0.9980\n",
            "Reached 99.8% accuracy so cancelling training!\n",
            "1875/1875 [==============================] - 36s 19ms/step - loss: 0.0070 - accuracy: 0.9980\n"
          ],
          "name": "stdout"
        },
        {
          "output_type": "execute_result",
          "data": {
            "text/plain": [
              "<tensorflow.python.keras.callbacks.History at 0x7f6266a052b0>"
            ]
          },
          "metadata": {
            "tags": []
          },
          "execution_count": 11
        }
      ]
    },
    {
      "cell_type": "code",
      "metadata": {
        "id": "kdTLCg-WVo4r",
        "colab_type": "code",
        "colab": {}
      },
      "source": [
        ""
      ],
      "execution_count": null,
      "outputs": []
    }
  ]
}